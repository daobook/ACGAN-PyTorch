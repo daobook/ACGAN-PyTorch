{
 "cells": [
  {
   "cell_type": "code",
   "execution_count": 1,
   "metadata": {},
   "outputs": [
    {
     "name": "stdout",
     "output_type": "stream",
     "text": [
      "Metropolitan-1.zip\n",
      "Metropolitan-2.zip\n",
      "Smithsonian-7.zip\n",
      "Smithsonian-6.zip\n",
      "Smithsonian-4.zip\n",
      "Smithsonian-1.zip\n",
      "Smithsonian-5.zip\n",
      "Smithsonian-3.zip\n",
      "Smithsonian-2.zip\n",
      "Princeton-1.zip\n",
      "Princeton-2.zip\n",
      "Harvard-1.zip\n"
     ]
    }
   ],
   "source": [
    "from pathlib import Path\n",
    "import shutil\n",
    "from zipfile import ZipFile\n",
    "root = 'data'\n",
    "# 解压数据集\n",
    "for file in Path('../Chinese-Landscape-Painting-Dataset/All-Paintings').rglob('*.zip'):\n",
    "    print(file.name)\n",
    "    with ZipFile(file) as Z:\n",
    "        Z.extractall(root)\n",
    "shutil.rmtree(f'{root}/__MACOSX') # 删除无效数据"
   ]
  },
  {
   "cell_type": "code",
   "execution_count": null,
   "metadata": {},
   "outputs": [],
   "source": []
  }
 ],
 "metadata": {
  "interpreter": {
   "hash": "6ee5142ba8a2589df39b0df03e82f50c3ae535c49aaf7d83abad1a0d572c7e37"
  },
  "kernelspec": {
   "display_name": "Python 3.10.4 ('tvm-test')",
   "language": "python",
   "name": "python3"
  },
  "language_info": {
   "codemirror_mode": {
    "name": "ipython",
    "version": 3
   },
   "file_extension": ".py",
   "mimetype": "text/x-python",
   "name": "python",
   "nbconvert_exporter": "python",
   "pygments_lexer": "ipython3",
   "version": "3.10.4"
  },
  "orig_nbformat": 4
 },
 "nbformat": 4,
 "nbformat_minor": 2
}
